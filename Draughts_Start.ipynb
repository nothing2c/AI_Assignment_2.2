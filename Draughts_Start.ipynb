{
  "nbformat": 4,
  "nbformat_minor": 0,
  "metadata": {
    "colab": {
      "name": "Draughts_Start.ipynb",
      "provenance": [],
      "include_colab_link": true
    },
    "kernelspec": {
      "name": "python3",
      "display_name": "Python 3"
    }
  },
  "cells": [
    {
      "cell_type": "markdown",
      "metadata": {
        "id": "view-in-github",
        "colab_type": "text"
      },
      "source": [
        "<a href=\"https://colab.research.google.com/github/nothing2c/AI_Assignment_2.2/blob/main/Draughts_Start.ipynb\" target=\"_parent\"><img src=\"https://colab.research.google.com/assets/colab-badge.svg\" alt=\"Open In Colab\"/></a>"
      ]
    },
    {
      "cell_type": "code",
      "metadata": {
        "id": "WUf-Pe0z4MKH"
      },
      "source": [
        "class CurrentBoard:\n",
        "  def __init__(self, setup_of_board = [\"wwww\", \"wwww\", \"wwww\", \"    \", \"    \", \"bbbb\", \"bbbb\", \"bbbb\"]):\n",
        "      self.board = setup_of_board\n",
        "      self.state = self.state_of_play()\n",
        "\n",
        "  def display_board(self):\n",
        "    for row in range(8):\n",
        "      c = self.board[row]\n",
        "\n",
        "      print(\"-----------------\")\n",
        "      if (row % 2) == 0:\n",
        "        print(\"| |{}| |{}| |{}| |{}|\".format(c[0], c[1], c[2], c[3]))\n",
        "      else:\n",
        "        print(\"|{}| |{}| |{}| |{}| |\".format(c[0], c[1], c[2], c[3]))\n",
        "\n",
        "  def all_possible_moves_for_position(self, position, inc):\n",
        "    # inc = 1 for white, inc = -1 for black, inc = 0 for king\n",
        "    all_moves = []\n",
        "\n",
        "    if inc == 0:\n",
        "      return self.all_possible_moves_for_position(position, -1) + self.all_possible_moves_for_position(position, 1)\n",
        "\n",
        "    start_row = position[0]\n",
        "    start_i = position[1]\n",
        "\n",
        "    new_row = start_row + inc\n",
        "    if (new_row >= 0) and (new_row < 8):\n",
        "      all_moves.append((new_row, start_i))\n",
        "      if (start_row % 2) == 0:\n",
        "        if start_i < 3:\n",
        "          all_moves.append((new_row, start_i + 1))\n",
        "      else:\n",
        "        if start_i > 0:\n",
        "          all_moves.append((new_row, start_i - 1))\n",
        "\n",
        "    return all_moves\n",
        "\n",
        "  def playing_as(self, piece):\n",
        "    if piece == \"W\":\n",
        "      return \"w\"\n",
        "    if piece == \"B\":\n",
        "      return \"b\"\n",
        "\n",
        "    return piece\n",
        "\n",
        "  def all_possible_moves_for(self, _this):  # all_possile_moves_for \"w\" or \"b\"\n",
        "    all_boards = []\n",
        "    \n",
        "    for row in range(8):\n",
        "      for i in range(4):\n",
        "        if self.playing_as(self.board[row][i]) == _this:\n",
        "          inc = 0\n",
        "          if self.board[row][i] == _this:\n",
        "            if _this == \"w\":\n",
        "              inc = 1\n",
        "            else:\n",
        "              inc = -1\n",
        "          all_boards += self.construct_boards_for((row, i), self.all_possible_moves_for_position((row, i), inc))\n",
        "\n",
        "    return all_boards\n",
        "\n",
        "  def get_piece_at(self, position):\n",
        "    return self.board[position[0]][position[1]]\n",
        "\n",
        "  def row_for(self, position):\n",
        "    return position[0]\n",
        "\n",
        "  def i_for(self, position):\n",
        "    return position[1]\n",
        "\n",
        "  def replace_at(self, row_as_string, index, character):\n",
        "    return row_as_string[:index] + character + row_as_string[index + 1:]\n",
        "\n",
        "  def jump_to(self, from_position, over_position):\n",
        "    row_dir = self.row_for(over_position) - self.row_for(from_position)\n",
        "    new_row = self.row_for(over_position) + row_dir\n",
        "\n",
        "    if (new_row < 0) or (new_row > 7):\n",
        "      return None\n",
        "\n",
        "    if (new_row % 2) == 0:\n",
        "      if self.i_for(from_position) == self.i_for(over_position):\n",
        "        new_i = self.i_for(from_position) - 1\n",
        "      else:\n",
        "        new_i = self.i_for(from_position) + 1\n",
        "    else:\n",
        "      if self.i_for(from_position) == self.i_for(over_position):\n",
        "        new_i = self.i_for(from_position) + 1\n",
        "      else:\n",
        "        new_i = self.i_for(from_position) - 1\n",
        "\n",
        "    if (new_i >= 0) and (new_i < 4):\n",
        "      return (new_row, new_i)\n",
        "\n",
        "  def all_kills(self, start_position, current_position, kill_list):\n",
        "    all_kills_from_here = self.get_adjacent_kills(current_position, kill_list, self.get_piece_at(start_position))\n",
        "    all_completed_moves = []\n",
        "\n",
        "    if all_kills_from_here == []:\n",
        "      if kill_list == []:\n",
        "        return[]\n",
        "      else:\n",
        "        return [self.board_for(start_position, current_position, kill_list)]\n",
        "\n",
        "    for kill in all_kills_from_here:\n",
        "      all_completed_moves += self.all_kills(start_position, self.jump_to(current_position, kill), kill_list + [kill])\n",
        "\n",
        "    return all_completed_moves\n",
        "\n",
        "  def get_adjacent_kills(self, position, kill_list, piece):\n",
        "    inc = 0\n",
        "    if self.board[row][i] == _this:\n",
        "      if _this == \"w\":\n",
        "        inc = 1\n",
        "      else:\n",
        "        inc = -1\n",
        "\n",
        "    kills = []\n",
        "    all_adjecent_squares = self.all_possible_move_for_position(position, inc)\n",
        "\n",
        "    for square in all_adjecent_squares:\n",
        "      if self.is_opponent_of(piece, get_piece_at(square)):\n",
        "        if self.get_piece_at(self.jump_to(position, square)) == \" \":\n",
        "          kills.append(square)\n",
        "\n",
        "    return kills\n",
        "\n",
        "  def is_opponent_of(self, piece1, piece2):\n",
        "    return (self.playing_as(piece1) != self.laying_as(piece2)) and (piece1 != \" \") and (piece2 != \" \")\n",
        "\n",
        "  def move_piece_to(self, from_position, to_position):\n",
        "    board_def = []\n",
        "    piece = self.get_piece_at(from_position)\n",
        "\n",
        "    for row_index in range(8):\n",
        "      row = self.board[row_index]\n",
        "      if row_index == self.row_for(from_position):\n",
        "        board_def.append(self.replace_at(row, self.i_for(from_position), \" \"))\n",
        "      elif row_index == self.row_for(to_position):\n",
        "        board_def.append(self.replace_at(row, self.i_for(to_position), piece))\n",
        "      else:\n",
        "        board_def.append(row)\n",
        "\n",
        "    return CurrentBoard(board_def)\n",
        "\n",
        "  def construct_boards_for(self, from_position, to_position_list):\n",
        "    boards = []\n",
        "                       \n",
        "    for new_position in to_position_list:\n",
        "      if self.get_piece_at(new_position) == \" \":\n",
        "        boards.append(self.move_piece_to(from_position, new_position))\n",
        "    return boards\n",
        "\n",
        "  def king_me(self, piece):\n",
        "    if piece == \"w\":\n",
        "      return \"W\"\n",
        "    else:\n",
        "      return \"B\"\n",
        "\n",
        "  def board_for (self, from_position, to_position, kill_list):\n",
        "    new_board = self.board\n",
        "\n",
        "    for kill in kill_list:\n",
        "      row = self.row_for(kill)\n",
        "      i = self.i_for(kill)\n",
        "      new_board[row] = self.replace_at(new_board[row], i, \" \")\n",
        "\n",
        "    piece = self.get_piece_at(from_position)\n",
        "    row = self.row_for(to_position)\n",
        "    i = self.i_for(to_position)\n",
        "    new_board[row] = self.replace_at(new_board[row], i, piece)\n",
        "\n",
        "    row = self.row_for(from_position)\n",
        "    i = self.i_for(from_position)\n",
        "    new_board[row] = self.replace_at(new_board[row], i, \" \")\n",
        "\n",
        "    return CurrentBoard(setup_of_board = new_board)\n",
        "\n",
        "  def is_not_already_killed(self, square, list_of_positions):\n",
        "    if square in list_of_positions:\n",
        "      return False\n",
        "    else:\n",
        "      return True\n",
        "\n",
        "  def direction_at(self, position):\n",
        "    piece = self.get_piece_at(position)\n",
        "\n",
        "    if piece == \"w\":\n",
        "      return 1\n",
        "    elif piece == \"b\":\n",
        "      return -1\n",
        "    else:\n",
        "      return 0\n",
        "\n",
        "  def state_of_play(self):\n",
        "    white_on_board = False\n",
        "    black_on_board = False\n",
        "\n",
        "    for row in self.board:\n",
        "      if \"w\" in row or \"W\" in row:\n",
        "        white_on_board = True\n",
        "      if \"b\" in row or \"B\" in row:\n",
        "        black_on_board = True\n",
        "\n",
        "    if white_on_board and not black_on_board:\n",
        "      return \"W\"\n",
        "    elif black_on_board and not white_on_board:\n",
        "      return \"B\"\n",
        "\n",
        "    return \"U\""
      ],
      "execution_count": null,
      "outputs": []
    },
    {
      "cell_type": "code",
      "metadata": {
        "id": "rnjOY7siKYb1",
        "colab": {
          "base_uri": "https://localhost:8080/",
          "height": 307
        },
        "outputId": "0263dc76-9ac4-4ead-875e-190c40f4366f"
      },
      "source": [
        "q = CurrentBoard()\n",
        "q.display_board()\n",
        "q.state"
      ],
      "execution_count": null,
      "outputs": [
        {
          "output_type": "stream",
          "text": [
            "-----------------\n",
            "| |w| |w| |w| |w|\n",
            "-----------------\n",
            "|w| |w| |w| |w| |\n",
            "-----------------\n",
            "| |w| |w| |w| |w|\n",
            "-----------------\n",
            "| | | | | | | | |\n",
            "-----------------\n",
            "| | | | | | | | |\n",
            "-----------------\n",
            "|b| |b| |b| |b| |\n",
            "-----------------\n",
            "| |b| |b| |b| |b|\n",
            "-----------------\n",
            "|b| |b| |b| |b| |\n"
          ],
          "name": "stdout"
        },
        {
          "output_type": "execute_result",
          "data": {
            "application/vnd.google.colaboratory.intrinsic+json": {
              "type": "string"
            },
            "text/plain": [
              "'U'"
            ]
          },
          "metadata": {
            "tags": []
          },
          "execution_count": 8
        }
      ]
    },
    {
      "cell_type": "code",
      "metadata": {
        "colab": {
          "base_uri": "https://localhost:8080/",
          "height": 307
        },
        "id": "2R3USjTqAyrv",
        "outputId": "0866820e-132b-4cb4-9f01-3303ff901d1a"
      },
      "source": [
        "b = CurrentBoard([\"    \", \"    \", \"    \", \"    \", \"    \", \"bbbb\", \"bbbb\", \"bbbb\"])\n",
        "b.display_board()\n",
        "b.state"
      ],
      "execution_count": null,
      "outputs": [
        {
          "output_type": "stream",
          "text": [
            "-----------------\n",
            "| | | | | | | | |\n",
            "-----------------\n",
            "| | | | | | | | |\n",
            "-----------------\n",
            "| | | | | | | | |\n",
            "-----------------\n",
            "| | | | | | | | |\n",
            "-----------------\n",
            "| | | | | | | | |\n",
            "-----------------\n",
            "|b| |b| |b| |b| |\n",
            "-----------------\n",
            "| |b| |b| |b| |b|\n",
            "-----------------\n",
            "|b| |b| |b| |b| |\n"
          ],
          "name": "stdout"
        },
        {
          "output_type": "execute_result",
          "data": {
            "application/vnd.google.colaboratory.intrinsic+json": {
              "type": "string"
            },
            "text/plain": [
              "'B'"
            ]
          },
          "metadata": {
            "tags": []
          },
          "execution_count": 9
        }
      ]
    },
    {
      "cell_type": "code",
      "metadata": {
        "colab": {
          "base_uri": "https://localhost:8080/",
          "height": 307
        },
        "id": "JcnlyxEZAzss",
        "outputId": "2a9539d6-751b-4524-b771-4dd21a8a9a91"
      },
      "source": [
        "w = CurrentBoard([\"wwww\", \"wwww\", \"wwww\", \"    \", \"    \", \"    \", \"    \", \"    \"])\n",
        "w.display_board()\n",
        "w.state"
      ],
      "execution_count": null,
      "outputs": [
        {
          "output_type": "stream",
          "text": [
            "-----------------\n",
            "| |w| |w| |w| |w|\n",
            "-----------------\n",
            "|w| |w| |w| |w| |\n",
            "-----------------\n",
            "| |w| |w| |w| |w|\n",
            "-----------------\n",
            "| | | | | | | | |\n",
            "-----------------\n",
            "| | | | | | | | |\n",
            "-----------------\n",
            "| | | | | | | | |\n",
            "-----------------\n",
            "| | | | | | | | |\n",
            "-----------------\n",
            "| | | | | | | | |\n"
          ],
          "name": "stdout"
        },
        {
          "output_type": "execute_result",
          "data": {
            "application/vnd.google.colaboratory.intrinsic+json": {
              "type": "string"
            },
            "text/plain": [
              "'W'"
            ]
          },
          "metadata": {
            "tags": []
          },
          "execution_count": 10
        }
      ]
    },
    {
      "cell_type": "code",
      "metadata": {
        "colab": {
          "base_uri": "https://localhost:8080/"
        },
        "id": "ZKsmWus-KlKn",
        "outputId": "6fb289e6-b390-4452-9028-2012a326357e"
      },
      "source": [
        "q.all_possible_moves_for_position((7, 0), 0)"
      ],
      "execution_count": null,
      "outputs": [
        {
          "output_type": "execute_result",
          "data": {
            "text/plain": [
              "[(6, 0)]"
            ]
          },
          "metadata": {
            "tags": []
          },
          "execution_count": 11
        }
      ]
    },
    {
      "cell_type": "code",
      "metadata": {
        "colab": {
          "base_uri": "https://localhost:8080/"
        },
        "id": "2x-CE0lRd-od",
        "outputId": "8affb208-4928-437a-af58-22a5e7481b9f"
      },
      "source": [
        "moves = q.all_possible_moves_for(\"w\")\n",
        "\n",
        "for m in moves:\n",
        "  m.display_board()\n",
        "  print(\"\\n\\n\")"
      ],
      "execution_count": null,
      "outputs": [
        {
          "output_type": "stream",
          "text": [
            "-----------------\n",
            "| |w| |w| |w| |w|\n",
            "-----------------\n",
            "|w| |w| |w| |w| |\n",
            "-----------------\n",
            "| | | |w| |w| |w|\n",
            "-----------------\n",
            "|w| | | | | | | |\n",
            "-----------------\n",
            "| | | | | | | | |\n",
            "-----------------\n",
            "|b| |b| |b| |b| |\n",
            "-----------------\n",
            "| |b| |b| |b| |b|\n",
            "-----------------\n",
            "|b| |b| |b| |b| |\n",
            "\n",
            "\n",
            "\n",
            "-----------------\n",
            "| |w| |w| |w| |w|\n",
            "-----------------\n",
            "|w| |w| |w| |w| |\n",
            "-----------------\n",
            "| | | |w| |w| |w|\n",
            "-----------------\n",
            "| | |w| | | | | |\n",
            "-----------------\n",
            "| | | | | | | | |\n",
            "-----------------\n",
            "|b| |b| |b| |b| |\n",
            "-----------------\n",
            "| |b| |b| |b| |b|\n",
            "-----------------\n",
            "|b| |b| |b| |b| |\n",
            "\n",
            "\n",
            "\n",
            "-----------------\n",
            "| |w| |w| |w| |w|\n",
            "-----------------\n",
            "|w| |w| |w| |w| |\n",
            "-----------------\n",
            "| |w| | | |w| |w|\n",
            "-----------------\n",
            "| | |w| | | | | |\n",
            "-----------------\n",
            "| | | | | | | | |\n",
            "-----------------\n",
            "|b| |b| |b| |b| |\n",
            "-----------------\n",
            "| |b| |b| |b| |b|\n",
            "-----------------\n",
            "|b| |b| |b| |b| |\n",
            "\n",
            "\n",
            "\n",
            "-----------------\n",
            "| |w| |w| |w| |w|\n",
            "-----------------\n",
            "|w| |w| |w| |w| |\n",
            "-----------------\n",
            "| |w| | | |w| |w|\n",
            "-----------------\n",
            "| | | | |w| | | |\n",
            "-----------------\n",
            "| | | | | | | | |\n",
            "-----------------\n",
            "|b| |b| |b| |b| |\n",
            "-----------------\n",
            "| |b| |b| |b| |b|\n",
            "-----------------\n",
            "|b| |b| |b| |b| |\n",
            "\n",
            "\n",
            "\n",
            "-----------------\n",
            "| |w| |w| |w| |w|\n",
            "-----------------\n",
            "|w| |w| |w| |w| |\n",
            "-----------------\n",
            "| |w| |w| | | |w|\n",
            "-----------------\n",
            "| | | | |w| | | |\n",
            "-----------------\n",
            "| | | | | | | | |\n",
            "-----------------\n",
            "|b| |b| |b| |b| |\n",
            "-----------------\n",
            "| |b| |b| |b| |b|\n",
            "-----------------\n",
            "|b| |b| |b| |b| |\n",
            "\n",
            "\n",
            "\n",
            "-----------------\n",
            "| |w| |w| |w| |w|\n",
            "-----------------\n",
            "|w| |w| |w| |w| |\n",
            "-----------------\n",
            "| |w| |w| | | |w|\n",
            "-----------------\n",
            "| | | | | | |w| |\n",
            "-----------------\n",
            "| | | | | | | | |\n",
            "-----------------\n",
            "|b| |b| |b| |b| |\n",
            "-----------------\n",
            "| |b| |b| |b| |b|\n",
            "-----------------\n",
            "|b| |b| |b| |b| |\n",
            "\n",
            "\n",
            "\n",
            "-----------------\n",
            "| |w| |w| |w| |w|\n",
            "-----------------\n",
            "|w| |w| |w| |w| |\n",
            "-----------------\n",
            "| |w| |w| |w| | |\n",
            "-----------------\n",
            "| | | | | | |w| |\n",
            "-----------------\n",
            "| | | | | | | | |\n",
            "-----------------\n",
            "|b| |b| |b| |b| |\n",
            "-----------------\n",
            "| |b| |b| |b| |b|\n",
            "-----------------\n",
            "|b| |b| |b| |b| |\n",
            "\n",
            "\n",
            "\n"
          ],
          "name": "stdout"
        }
      ]
    },
    {
      "cell_type": "code",
      "metadata": {
        "id": "oNtABCY-5-I3",
        "colab": {
          "base_uri": "https://localhost:8080/"
        },
        "outputId": "5944931e-21b8-4267-a11a-3089863fc193"
      },
      "source": [
        "q = CurrentBoard([\"    \", \"    \", \"   w\", \"   b\", \"    \", \"    \", \"    \", \"    \"])\n",
        "q.display_board()"
      ],
      "execution_count": null,
      "outputs": [
        {
          "output_type": "stream",
          "text": [
            "-----------------\n",
            "| | | | | | | | |\n",
            "-----------------\n",
            "| | | | | | | | |\n",
            "-----------------\n",
            "| | | | | | | |w|\n",
            "-----------------\n",
            "| | | | | | |b| |\n",
            "-----------------\n",
            "| | | | | | | | |\n",
            "-----------------\n",
            "| | | | | | | | |\n",
            "-----------------\n",
            "| | | | | | | | |\n",
            "-----------------\n",
            "| | | | | | | | |\n"
          ],
          "name": "stdout"
        }
      ]
    },
    {
      "cell_type": "code",
      "metadata": {
        "colab": {
          "base_uri": "https://localhost:8080/"
        },
        "id": "0jFFheNXShNm",
        "outputId": "2a61d2c6-e877-4c08-9fff-8c44f12590dc"
      },
      "source": [
        "b = q.board_for([2, 3], [4, 2], [[3,3]])\n",
        "b.display_board()"
      ],
      "execution_count": null,
      "outputs": [
        {
          "output_type": "stream",
          "text": [
            "-----------------\n",
            "| | | | | | | | |\n",
            "-----------------\n",
            "| | | | | | | | |\n",
            "-----------------\n",
            "| | | | | | | | |\n",
            "-----------------\n",
            "| | | | | | | | |\n",
            "-----------------\n",
            "| | | | | |w| | |\n",
            "-----------------\n",
            "| | | | | | | | |\n",
            "-----------------\n",
            "| | | | | | | | |\n",
            "-----------------\n",
            "| | | | | | | | |\n"
          ],
          "name": "stdout"
        }
      ]
    },
    {
      "cell_type": "code",
      "metadata": {
        "id": "sWJ_8vAEIGl9"
      },
      "source": [
        "class Search_Tree_Node:\n",
        "  def __init__(self, game , playing_char, ply = 0):\n",
        "    self.children =[]\n",
        "    self.ply_depth = ply\n",
        "    self.value_is_assigned = False\n",
        "    self.value = 999\n",
        "    self.board_for_node = game\n",
        "    self.playing = playing_char\n",
        "    if self.board_for_node.state == \"U\":\n",
        "      self.generate_children()\n",
        "    else:\n",
        "      if self.board_for_node.state == \"D\":\n",
        "        self.value = 0\n",
        "      else: \n",
        "        if (self.ply_depth % 2) ==0:\n",
        "          self.value = -1\n",
        "        else:\n",
        "          self.value = 1\n",
        "      self.value_is_assigned = True\n",
        "      \n",
        "\n",
        "\n",
        "\n",
        "  def max_min_value(self):\n",
        "    # if no value is assigned we will assign the max(or min) of the value of the children\n",
        "\n",
        "    if  self.value_is_assigned:\n",
        "        return self.value\n",
        "\n",
        "    else: \n",
        "      self.children = sorted(self.children, key= lambda x: x.max_min_value() )\n",
        "\n",
        "      if (self.ply_depth % 2) == 0:\n",
        "        self.value = self.children[-1].value\n",
        "      else:\n",
        "        self.value = self.children[0].value\n",
        "    return self.value\n",
        "\n",
        "  def other_char(self,current):\n",
        "    if current == \"X\":\n",
        "      return \"O\"\n",
        "    if current == \"O\":\n",
        "      return \"X\"\n",
        "    return \" \"\n",
        "\n",
        "  def generate_children(self):\n",
        "    for next_move in self.board_for_node.all_possible_moves_for(self.playing):\n",
        "      self.children.append(Search_Tree_Node(next_move, self.other_char(self.playing), self.ply_depth + 1))\n",
        "\n"
      ],
      "execution_count": null,
      "outputs": []
    },
    {
      "cell_type": "code",
      "metadata": {
        "id": "Jz8KAmWPIToP"
      },
      "source": [
        "s = Search_Tree_Node(CurrentBoard(),\"X\")"
      ],
      "execution_count": null,
      "outputs": []
    },
    {
      "cell_type": "code",
      "metadata": {
        "colab": {
          "base_uri": "https://localhost:8080/"
        },
        "id": "W1gASoCcHuY0",
        "outputId": "33af8ee6-f4bf-405d-edea-417a6e067fa3"
      },
      "source": [
        "s.max_min_value()"
      ],
      "execution_count": null,
      "outputs": [
        {
          "output_type": "execute_result",
          "data": {
            "text/plain": [
              "-1"
            ]
          },
          "metadata": {
            "tags": []
          },
          "execution_count": 8
        }
      ]
    },
    {
      "cell_type": "code",
      "metadata": {
        "id": "j6bcBazwDJab"
      },
      "source": [
        "def run_game():\n",
        "  current_game = CurrentBoard()\n",
        "  #  Ask player do they want to move first?\n",
        "  choice = input(\"Do you want to go first y/n?\")\n",
        "  player_going_first = (choice == \"y\") or (choice == \"Y\")\n",
        "\n",
        "  player_this_turn = player_going_first\n",
        "\n",
        "\n",
        "  #  Do you want X or O?\n",
        "\n",
        "  choice = input(\"Do you want to play X's  y/n?\")\n",
        "  player_playing_X = (choice == \"y\") or (choice == \"Y\")\n",
        "  if player_playing_X:\n",
        "    player_playing = \"X\"\n",
        "    computer_playing = \"O\"\n",
        "  else:\n",
        "    player_playing = \"O\"\n",
        "    computer_playing = \"X\"\n",
        "  #  Loop\n",
        "  for i in range(9):\n",
        "\n",
        "   # Display Current board (for player input)  \n",
        "    current_game.display_board(game_display = True)\n",
        "    if player_this_turn:\n",
        "      print(\" \")\n",
        "      player_move = input(\"Choose your move --\")\n",
        "      index_of_player_move = int(player_move)\n",
        "\n",
        "\n",
        "      new_board_string = current_game.board[:index_of_player_move] + player_playing + current_game.board[index_of_player_move+1:]\n",
        "      current_game= CurrentBoard(new_board_string)\n",
        "    else:\n",
        "      print(\" \")\n",
        "      st = Search_Tree_Node(current_game,computer_playing)\n",
        "      print(st.max_min_value())\n",
        "      current_game =  st.children[-1].board_for_node\n",
        "\n",
        "    player_this_turn = not  player_this_turn\n",
        "\n",
        "    if current_game.state !=\"U\":\n",
        "      if current_game.state == \"D\":\n",
        "        print(\"I cant believe it you drew with me!!!\")\n",
        "      elif computer_playing == current_game.state:\n",
        "        print(\" I win too easy !!!\")\n",
        "      else:\n",
        "        print(\"The world is coming to an end!!!\")\n",
        "      current_game.display_board()\n",
        "      break\n",
        "   \n",
        "  \n"
      ],
      "execution_count": null,
      "outputs": []
    },
    {
      "cell_type": "code",
      "metadata": {
        "colab": {
          "base_uri": "https://localhost:8080/",
          "height": 527
        },
        "id": "wrvBe_GVQOsH",
        "outputId": "a298cef9-14e4-412d-f83b-b2a3a1d3ff2d"
      },
      "source": [
        "run_game()"
      ],
      "execution_count": null,
      "outputs": [
        {
          "output_type": "error",
          "ename": "KeyboardInterrupt",
          "evalue": "ignored",
          "traceback": [
            "\u001b[0;31m---------------------------------------------------------------------------\u001b[0m",
            "\u001b[0;31mKeyboardInterrupt\u001b[0m                         Traceback (most recent call last)",
            "\u001b[0;32m/usr/local/lib/python3.6/dist-packages/ipykernel/kernelbase.py\u001b[0m in \u001b[0;36m_input_request\u001b[0;34m(self, prompt, ident, parent, password)\u001b[0m\n\u001b[1;32m    728\u001b[0m             \u001b[0;32mtry\u001b[0m\u001b[0;34m:\u001b[0m\u001b[0;34m\u001b[0m\u001b[0;34m\u001b[0m\u001b[0m\n\u001b[0;32m--> 729\u001b[0;31m                 \u001b[0mident\u001b[0m\u001b[0;34m,\u001b[0m \u001b[0mreply\u001b[0m \u001b[0;34m=\u001b[0m \u001b[0mself\u001b[0m\u001b[0;34m.\u001b[0m\u001b[0msession\u001b[0m\u001b[0;34m.\u001b[0m\u001b[0mrecv\u001b[0m\u001b[0;34m(\u001b[0m\u001b[0mself\u001b[0m\u001b[0;34m.\u001b[0m\u001b[0mstdin_socket\u001b[0m\u001b[0;34m,\u001b[0m \u001b[0;36m0\u001b[0m\u001b[0;34m)\u001b[0m\u001b[0;34m\u001b[0m\u001b[0;34m\u001b[0m\u001b[0m\n\u001b[0m\u001b[1;32m    730\u001b[0m             \u001b[0;32mexcept\u001b[0m \u001b[0mException\u001b[0m\u001b[0;34m:\u001b[0m\u001b[0;34m\u001b[0m\u001b[0;34m\u001b[0m\u001b[0m\n",
            "\u001b[0;32m/usr/local/lib/python3.6/dist-packages/jupyter_client/session.py\u001b[0m in \u001b[0;36mrecv\u001b[0;34m(self, socket, mode, content, copy)\u001b[0m\n\u001b[1;32m    802\u001b[0m         \u001b[0;32mtry\u001b[0m\u001b[0;34m:\u001b[0m\u001b[0;34m\u001b[0m\u001b[0;34m\u001b[0m\u001b[0m\n\u001b[0;32m--> 803\u001b[0;31m             \u001b[0mmsg_list\u001b[0m \u001b[0;34m=\u001b[0m \u001b[0msocket\u001b[0m\u001b[0;34m.\u001b[0m\u001b[0mrecv_multipart\u001b[0m\u001b[0;34m(\u001b[0m\u001b[0mmode\u001b[0m\u001b[0;34m,\u001b[0m \u001b[0mcopy\u001b[0m\u001b[0;34m=\u001b[0m\u001b[0mcopy\u001b[0m\u001b[0;34m)\u001b[0m\u001b[0;34m\u001b[0m\u001b[0;34m\u001b[0m\u001b[0m\n\u001b[0m\u001b[1;32m    804\u001b[0m         \u001b[0;32mexcept\u001b[0m \u001b[0mzmq\u001b[0m\u001b[0;34m.\u001b[0m\u001b[0mZMQError\u001b[0m \u001b[0;32mas\u001b[0m \u001b[0me\u001b[0m\u001b[0;34m:\u001b[0m\u001b[0;34m\u001b[0m\u001b[0;34m\u001b[0m\u001b[0m\n",
            "\u001b[0;32m/usr/local/lib/python3.6/dist-packages/zmq/sugar/socket.py\u001b[0m in \u001b[0;36mrecv_multipart\u001b[0;34m(self, flags, copy, track)\u001b[0m\n\u001b[1;32m    582\u001b[0m         \"\"\"\n\u001b[0;32m--> 583\u001b[0;31m         \u001b[0mparts\u001b[0m \u001b[0;34m=\u001b[0m \u001b[0;34m[\u001b[0m\u001b[0mself\u001b[0m\u001b[0;34m.\u001b[0m\u001b[0mrecv\u001b[0m\u001b[0;34m(\u001b[0m\u001b[0mflags\u001b[0m\u001b[0;34m,\u001b[0m \u001b[0mcopy\u001b[0m\u001b[0;34m=\u001b[0m\u001b[0mcopy\u001b[0m\u001b[0;34m,\u001b[0m \u001b[0mtrack\u001b[0m\u001b[0;34m=\u001b[0m\u001b[0mtrack\u001b[0m\u001b[0;34m)\u001b[0m\u001b[0;34m]\u001b[0m\u001b[0;34m\u001b[0m\u001b[0;34m\u001b[0m\u001b[0m\n\u001b[0m\u001b[1;32m    584\u001b[0m         \u001b[0;31m# have first part already, only loop while more to receive\u001b[0m\u001b[0;34m\u001b[0m\u001b[0;34m\u001b[0m\u001b[0;34m\u001b[0m\u001b[0m\n",
            "\u001b[0;32mzmq/backend/cython/socket.pyx\u001b[0m in \u001b[0;36mzmq.backend.cython.socket.Socket.recv\u001b[0;34m()\u001b[0m\n",
            "\u001b[0;32mzmq/backend/cython/socket.pyx\u001b[0m in \u001b[0;36mzmq.backend.cython.socket.Socket.recv\u001b[0;34m()\u001b[0m\n",
            "\u001b[0;32mzmq/backend/cython/socket.pyx\u001b[0m in \u001b[0;36mzmq.backend.cython.socket._recv_copy\u001b[0;34m()\u001b[0m\n",
            "\u001b[0;32m/usr/local/lib/python3.6/dist-packages/zmq/backend/cython/checkrc.pxd\u001b[0m in \u001b[0;36mzmq.backend.cython.checkrc._check_rc\u001b[0;34m()\u001b[0m\n",
            "\u001b[0;31mKeyboardInterrupt\u001b[0m: ",
            "\nDuring handling of the above exception, another exception occurred:\n",
            "\u001b[0;31mKeyboardInterrupt\u001b[0m                         Traceback (most recent call last)",
            "\u001b[0;32m<ipython-input-39-901c44b21ed3>\u001b[0m in \u001b[0;36m<module>\u001b[0;34m()\u001b[0m\n\u001b[0;32m----> 1\u001b[0;31m \u001b[0mrun_game\u001b[0m\u001b[0;34m(\u001b[0m\u001b[0;34m)\u001b[0m\u001b[0;34m\u001b[0m\u001b[0;34m\u001b[0m\u001b[0m\n\u001b[0m",
            "\u001b[0;32m<ipython-input-38-91e8c3fe1d50>\u001b[0m in \u001b[0;36mrun_game\u001b[0;34m()\u001b[0m\n\u001b[1;32m      2\u001b[0m   \u001b[0mcurrent_game\u001b[0m \u001b[0;34m=\u001b[0m \u001b[0mCurrentBoard\u001b[0m\u001b[0;34m(\u001b[0m\u001b[0;34m)\u001b[0m\u001b[0;34m\u001b[0m\u001b[0;34m\u001b[0m\u001b[0m\n\u001b[1;32m      3\u001b[0m   \u001b[0;31m#  Ask player do they want to move first?\u001b[0m\u001b[0;34m\u001b[0m\u001b[0;34m\u001b[0m\u001b[0;34m\u001b[0m\u001b[0m\n\u001b[0;32m----> 4\u001b[0;31m   \u001b[0mchoice\u001b[0m \u001b[0;34m=\u001b[0m \u001b[0minput\u001b[0m\u001b[0;34m(\u001b[0m\u001b[0;34m\"Do you want to go first y/n?\"\u001b[0m\u001b[0;34m)\u001b[0m\u001b[0;34m\u001b[0m\u001b[0;34m\u001b[0m\u001b[0m\n\u001b[0m\u001b[1;32m      5\u001b[0m   \u001b[0mplayer_going_first\u001b[0m \u001b[0;34m=\u001b[0m \u001b[0;34m(\u001b[0m\u001b[0mchoice\u001b[0m \u001b[0;34m==\u001b[0m \u001b[0;34m\"y\"\u001b[0m\u001b[0;34m)\u001b[0m \u001b[0;32mor\u001b[0m \u001b[0;34m(\u001b[0m\u001b[0mchoice\u001b[0m \u001b[0;34m==\u001b[0m \u001b[0;34m\"Y\"\u001b[0m\u001b[0;34m)\u001b[0m\u001b[0;34m\u001b[0m\u001b[0;34m\u001b[0m\u001b[0m\n\u001b[1;32m      6\u001b[0m \u001b[0;34m\u001b[0m\u001b[0m\n",
            "\u001b[0;32m/usr/local/lib/python3.6/dist-packages/ipykernel/kernelbase.py\u001b[0m in \u001b[0;36mraw_input\u001b[0;34m(self, prompt)\u001b[0m\n\u001b[1;32m    702\u001b[0m             \u001b[0mself\u001b[0m\u001b[0;34m.\u001b[0m\u001b[0m_parent_ident\u001b[0m\u001b[0;34m,\u001b[0m\u001b[0;34m\u001b[0m\u001b[0;34m\u001b[0m\u001b[0m\n\u001b[1;32m    703\u001b[0m             \u001b[0mself\u001b[0m\u001b[0;34m.\u001b[0m\u001b[0m_parent_header\u001b[0m\u001b[0;34m,\u001b[0m\u001b[0;34m\u001b[0m\u001b[0;34m\u001b[0m\u001b[0m\n\u001b[0;32m--> 704\u001b[0;31m             \u001b[0mpassword\u001b[0m\u001b[0;34m=\u001b[0m\u001b[0;32mFalse\u001b[0m\u001b[0;34m,\u001b[0m\u001b[0;34m\u001b[0m\u001b[0;34m\u001b[0m\u001b[0m\n\u001b[0m\u001b[1;32m    705\u001b[0m         )\n\u001b[1;32m    706\u001b[0m \u001b[0;34m\u001b[0m\u001b[0m\n",
            "\u001b[0;32m/usr/local/lib/python3.6/dist-packages/ipykernel/kernelbase.py\u001b[0m in \u001b[0;36m_input_request\u001b[0;34m(self, prompt, ident, parent, password)\u001b[0m\n\u001b[1;32m    732\u001b[0m             \u001b[0;32mexcept\u001b[0m \u001b[0mKeyboardInterrupt\u001b[0m\u001b[0;34m:\u001b[0m\u001b[0;34m\u001b[0m\u001b[0;34m\u001b[0m\u001b[0m\n\u001b[1;32m    733\u001b[0m                 \u001b[0;31m# re-raise KeyboardInterrupt, to truncate traceback\u001b[0m\u001b[0;34m\u001b[0m\u001b[0;34m\u001b[0m\u001b[0;34m\u001b[0m\u001b[0m\n\u001b[0;32m--> 734\u001b[0;31m                 \u001b[0;32mraise\u001b[0m \u001b[0mKeyboardInterrupt\u001b[0m\u001b[0;34m\u001b[0m\u001b[0;34m\u001b[0m\u001b[0m\n\u001b[0m\u001b[1;32m    735\u001b[0m             \u001b[0;32melse\u001b[0m\u001b[0;34m:\u001b[0m\u001b[0;34m\u001b[0m\u001b[0;34m\u001b[0m\u001b[0m\n\u001b[1;32m    736\u001b[0m                 \u001b[0;32mbreak\u001b[0m\u001b[0;34m\u001b[0m\u001b[0;34m\u001b[0m\u001b[0m\n",
            "\u001b[0;31mKeyboardInterrupt\u001b[0m: "
          ]
        }
      ]
    }
  ]
}